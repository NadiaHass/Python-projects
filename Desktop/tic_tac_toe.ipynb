{
 "cells": [
  {
   "cell_type": "code",
   "execution_count": 1,
   "id": "daba9bd4",
   "metadata": {},
   "outputs": [],
   "source": [
    "global_board = [[None , None , None] , [None , None , None] , [None , None , None]]\n",
    "def print_board(board) :\n",
    "    for row in board:\n",
    "        print(\" | \".join(str(cell) if cell is not None else \" \" for cell in row))\n",
    "        print(\"-\" * 9)\n",
    "        \n",
    "def play(board , symbole) :\n",
    "    global global_board\n",
    "    while True :\n",
    "        print(\"It's the \" , symbole , \" turn\")\n",
    "        x = int(input(\"give x position \"))\n",
    "        y = int(input(\"give y position \"))\n",
    "        if (x>=0 and x<=2) and (y>=0 and y<=2) :\n",
    "            if board[x][y] is None:\n",
    "                board[x][y] = symbole\n",
    "                print_board(board)\n",
    "                global_board = board\n",
    "                break\n",
    "            else :\n",
    "                print (\"It's an occupied position , try again \")\n",
    "            \n",
    "        else :\n",
    "            print(\"give a valid position, try again\")\n",
    "\n",
    "\n",
    "\n",
    "def check_win(board, player_symbol):\n",
    "    for row in board:\n",
    "        if all(cell == player_symbol for cell in row):\n",
    "            return True\n",
    "            \n",
    "    for col in range(3):\n",
    "        if all(row[col] == player_symbol for row in board):\n",
    "            return True\n",
    "\n",
    "    if all(board[i][i] == player_symbol for i in range(3)) or \\\n",
    "       all(board[i][2 - i] == player_symbol for i in range(3)):\n",
    "        return True\n",
    "\n",
    "    return False\n",
    "\n",
    "def check_tie(board) :\n",
    "    for row in board : \n",
    "        for cell in row :\n",
    "            if cell is None : \n",
    "                return False \n",
    "    return True\n",
    "\n",
    "def start() :\n",
    "    global global_board\n",
    "    global_board = [[None , None , None] , [None , None , None] , [None , None , None]]\n",
    "\n",
    "    i = 1\n",
    "    while (not check_tie(global_board) and not (check_win(global_board , \"X\") or check_win(global_board , \"O\")) ):\n",
    "        if i%2 == 0 :\n",
    "            play(global_board , \"X\")\n",
    "        else :\n",
    "            play(global_board , \"O\")\n",
    "        i = i+1\n",
    "    \n",
    "    if check_win(global_board , \"X\") : \n",
    "        print (\"X wins ! \")\n",
    "    elif check_win(global_board , \"O\") :\n",
    "        print(\"O wins ! \")"
   ]
  },
  {
   "cell_type": "code",
   "execution_count": null,
   "id": "82e80214",
   "metadata": {},
   "outputs": [
    {
     "name": "stdout",
     "output_type": "stream",
     "text": [
      "It's the  O  turn\n"
     ]
    }
   ],
   "source": [
    "start()\n",
    "while True :\n",
    "    p = input(\"You want to play again ?\")\n",
    "    if p.lower() == \"yes\" :\n",
    "        start()\n",
    "    else :\n",
    "        break"
   ]
  }
 ],
 "metadata": {
  "kernelspec": {
   "display_name": "Python 3 (ipykernel)",
   "language": "python",
   "name": "python3"
  },
  "language_info": {
   "codemirror_mode": {
    "name": "ipython",
    "version": 3
   },
   "file_extension": ".py",
   "mimetype": "text/x-python",
   "name": "python",
   "nbconvert_exporter": "python",
   "pygments_lexer": "ipython3",
   "version": "3.9.13"
  }
 },
 "nbformat": 4,
 "nbformat_minor": 5
}
